{
 "cells": [
  {
   "cell_type": "code",
   "execution_count": 2,
   "id": "9874cb4f",
   "metadata": {},
   "outputs": [
    {
     "name": "stdout",
     "output_type": "stream",
     "text": [
      "Enter your first Name: Shiv Shankar\n",
      "Enter your Last Name: Sah\n"
     ]
    }
   ],
   "source": [
    "f_name = input('Enter your first Name: ')\n",
    "l_name = input('Enter your Last Name: ')"
   ]
  },
  {
   "cell_type": "code",
   "execution_count": 3,
   "id": "46b961df",
   "metadata": {},
   "outputs": [
    {
     "name": "stdout",
     "output_type": "stream",
     "text": [
      "Your name is Shiv Shankar Sah\n"
     ]
    }
   ],
   "source": [
    "print('Your name is '+f_name+' '+ l_name)"
   ]
  },
  {
   "cell_type": "code",
   "execution_count": 7,
   "id": "45331b2b",
   "metadata": {},
   "outputs": [
    {
     "name": "stdout",
     "output_type": "stream",
     "text": [
      "Enter first number: 55\n",
      "Enter second number: 6\n"
     ]
    }
   ],
   "source": [
    "num1=int(input('Enter first number: ')) # takes input from user\n",
    "num2=int(input('Enter second number: '))"
   ]
  },
  {
   "cell_type": "code",
   "execution_count": 8,
   "id": "b644b614",
   "metadata": {},
   "outputs": [],
   "source": [
    "sum1=num1+num2"
   ]
  },
  {
   "cell_type": "code",
   "execution_count": 9,
   "id": "f72b294c",
   "metadata": {},
   "outputs": [
    {
     "data": {
      "text/plain": [
       "61"
      ]
     },
     "execution_count": 9,
     "metadata": {},
     "output_type": "execute_result"
    }
   ],
   "source": [
    "sum1"
   ]
  },
  {
   "cell_type": "code",
   "execution_count": 10,
   "id": "4d6d7e24",
   "metadata": {},
   "outputs": [
    {
     "name": "stdout",
     "output_type": "stream",
     "text": [
      "61\n"
     ]
    }
   ],
   "source": [
    "print(sum1)"
   ]
  },
  {
   "cell_type": "code",
   "execution_count": 14,
   "id": "ef26f3f8",
   "metadata": {},
   "outputs": [
    {
     "name": "stdout",
     "output_type": "stream",
     "text": [
      "Enter first number: 2\n",
      "Enter second number: 3\n"
     ]
    }
   ],
   "source": [
    "x=int(input('Enter first number: '))  #\n",
    "y=int(input('Enter second number: '))"
   ]
  },
  {
   "cell_type": "code",
   "execution_count": 15,
   "id": "bd49bd8a",
   "metadata": {},
   "outputs": [],
   "source": [
    "pr = x*y"
   ]
  },
  {
   "cell_type": "code",
   "execution_count": 16,
   "id": "68add867",
   "metadata": {},
   "outputs": [
    {
     "name": "stdout",
     "output_type": "stream",
     "text": [
      "The product is 6\n"
     ]
    }
   ],
   "source": [
    "print('The product is',pr)"
   ]
  },
  {
   "cell_type": "code",
   "execution_count": 17,
   "id": "c8b9457f",
   "metadata": {},
   "outputs": [
    {
     "data": {
      "text/plain": [
       "8"
      ]
     },
     "execution_count": 17,
     "metadata": {},
     "output_type": "execute_result"
    }
   ],
   "source": [
    "x**y"
   ]
  },
  {
   "cell_type": "code",
   "execution_count": 22,
   "id": "fe69c451",
   "metadata": {},
   "outputs": [
    {
     "data": {
      "text/plain": [
       "1"
      ]
     },
     "execution_count": 22,
     "metadata": {},
     "output_type": "execute_result"
    }
   ],
   "source": [
    "3//2"
   ]
  },
  {
   "cell_type": "code",
   "execution_count": null,
   "id": "06182aac",
   "metadata": {},
   "outputs": [],
   "source": []
  }
 ],
 "metadata": {
  "kernelspec": {
   "display_name": "Python 3 (ipykernel)",
   "language": "python",
   "name": "python3"
  },
  "language_info": {
   "codemirror_mode": {
    "name": "ipython",
    "version": 3
   },
   "file_extension": ".py",
   "mimetype": "text/x-python",
   "name": "python",
   "nbconvert_exporter": "python",
   "pygments_lexer": "ipython3",
   "version": "3.11.1"
  }
 },
 "nbformat": 4,
 "nbformat_minor": 5
}
