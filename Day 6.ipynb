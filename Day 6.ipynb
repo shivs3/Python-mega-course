{
 "cells": [
  {
   "cell_type": "markdown",
   "id": "eefd89be",
   "metadata": {},
   "source": [
    "# LOOP"
   ]
  },
  {
   "cell_type": "markdown",
   "id": "9735e58c",
   "metadata": {},
   "source": [
    "While Loop"
   ]
  },
  {
   "cell_type": "code",
   "execution_count": 1,
   "id": "62b3f829",
   "metadata": {},
   "outputs": [],
   "source": [
    "i=0"
   ]
  },
  {
   "cell_type": "code",
   "execution_count": 2,
   "id": "11870704",
   "metadata": {},
   "outputs": [
    {
     "name": "stdout",
     "output_type": "stream",
     "text": [
      "Hello Hex\n",
      "Hello Hex\n",
      "Hello Hex\n",
      "Hello Hex\n",
      "Hello Hex\n"
     ]
    }
   ],
   "source": [
    "while i<5:\n",
    "    print('Hello Hex')\n",
    "    i+=1"
   ]
  },
  {
   "cell_type": "markdown",
   "id": "442a4f03",
   "metadata": {},
   "source": [
    "For Loop"
   ]
  },
  {
   "cell_type": "code",
   "execution_count": 3,
   "id": "f2bd3dd2",
   "metadata": {},
   "outputs": [],
   "source": [
    "x='python'"
   ]
  },
  {
   "cell_type": "code",
   "execution_count": 5,
   "id": "60323a9c",
   "metadata": {},
   "outputs": [
    {
     "name": "stdout",
     "output_type": "stream",
     "text": [
      "Hello HEX\n",
      "Hello HEX\n",
      "Hello HEX\n",
      "Hello HEX\n",
      "Hello HEX\n",
      "Hello HEX\n"
     ]
    }
   ],
   "source": [
    "for i in x:\n",
    "    print('Hello HEX')"
   ]
  },
  {
   "cell_type": "code",
   "execution_count": 9,
   "id": "c7f1389f",
   "metadata": {},
   "outputs": [
    {
     "name": "stdout",
     "output_type": "stream",
     "text": [
      "Hello Hex\n",
      "Hello Hex\n",
      "Hello Hex\n",
      "Hello Hex\n",
      "Hello Hex\n",
      "Hello Hex\n",
      "Hello Hex\n",
      "Hello Hex\n",
      "Hello Hex\n",
      "Hello Hex\n"
     ]
    }
   ],
   "source": [
    "for i in range(10):\n",
    "    print('Hello Hex')"
   ]
  },
  {
   "cell_type": "markdown",
   "id": "a96b71b4",
   "metadata": {},
   "source": [
    "Print square of first 10 Natural Numbers."
   ]
  },
  {
   "cell_type": "code",
   "execution_count": 12,
   "id": "d2ed7ba2",
   "metadata": {},
   "outputs": [
    {
     "name": "stdout",
     "output_type": "stream",
     "text": [
      "1\n",
      "4\n",
      "9\n",
      "16\n",
      "25\n",
      "36\n",
      "49\n",
      "64\n",
      "81\n",
      "100\n"
     ]
    }
   ],
   "source": [
    "for i in range(1,11):\n",
    "    print(i**2)"
   ]
  },
  {
   "cell_type": "code",
   "execution_count": 13,
   "id": "40b85b8a",
   "metadata": {},
   "outputs": [
    {
     "name": "stdout",
     "output_type": "stream",
     "text": [
      "*\n",
      "* *\n",
      "* * *\n"
     ]
    }
   ],
   "source": [
    "print('*')\n",
    "print('* *')\n",
    "print('* * *')\n"
   ]
  },
  {
   "cell_type": "code",
   "execution_count": 19,
   "id": "42f2d37e",
   "metadata": {},
   "outputs": [
    {
     "name": "stdout",
     "output_type": "stream",
     "text": [
      "\n",
      "\n",
      "* \n",
      "\n",
      "* * \n",
      "\n",
      "* * * \n",
      "\n",
      "* * * * \n",
      "\n"
     ]
    }
   ],
   "source": [
    "for i in range(1,6):\n",
    "    for j in range(1,i):\n",
    "        print('*',end=' ')\n",
    "    print('\\n')"
   ]
  },
  {
   "cell_type": "code",
   "execution_count": 21,
   "id": "28a9bdc9",
   "metadata": {},
   "outputs": [
    {
     "name": "stdout",
     "output_type": "stream",
     "text": [
      "0 1 2 3 4 5 6 7 8 9 "
     ]
    }
   ],
   "source": [
    "for i in range(10):\n",
    "    print(i,end=' ')"
   ]
  },
  {
   "cell_type": "code",
   "execution_count": 27,
   "id": "d1294757",
   "metadata": {},
   "outputs": [
    {
     "name": "stdout",
     "output_type": "stream",
     "text": [
      "\n",
      "\n",
      "1 \n",
      "\n",
      "1 2 \n",
      "\n",
      "1 2 3 \n",
      "\n",
      "1 2 3 4 \n",
      "\n"
     ]
    }
   ],
   "source": [
    "for i in range(1,6):\n",
    "    for j in range(1,i):\n",
    "        print(j,end=' ')\n",
    "    print('\\n')"
   ]
  },
  {
   "cell_type": "code",
   "execution_count": 28,
   "id": "0cb82367",
   "metadata": {},
   "outputs": [],
   "source": [
    "import random"
   ]
  },
  {
   "cell_type": "code",
   "execution_count": 31,
   "id": "78b7d8a9",
   "metadata": {},
   "outputs": [],
   "source": [
    "x= random.randint(1,100)"
   ]
  },
  {
   "cell_type": "code",
   "execution_count": 32,
   "id": "423450f6",
   "metadata": {},
   "outputs": [
    {
     "data": {
      "text/plain": [
       "57"
      ]
     },
     "execution_count": 32,
     "metadata": {},
     "output_type": "execute_result"
    }
   ],
   "source": [
    "x"
   ]
  },
  {
   "cell_type": "code",
   "execution_count": 33,
   "id": "05fd8729",
   "metadata": {},
   "outputs": [],
   "source": [
    "import random as rd"
   ]
  },
  {
   "cell_type": "code",
   "execution_count": 36,
   "id": "1435b1fb",
   "metadata": {},
   "outputs": [
    {
     "name": "stdout",
     "output_type": "stream",
     "text": [
      "Enter a Number: 84\n",
      "Try Again\n",
      "Enter a Number: 57\n",
      "Try Again\n",
      "Enter a Number: 96\n",
      "Try Again\n",
      "Enter a Number: 1\n",
      "Try Again\n",
      "Enter a Number: 2\n",
      "Try Again\n",
      "Enter a Number: 3\n",
      "Try Again\n",
      "Enter a Number: 4\n",
      "Try Again\n",
      "Enter a Number: 3\n",
      "Try Again\n",
      "Enter a Number: 5\n",
      "Try Again\n",
      "Enter a Number: 6\n",
      "Try Again\n",
      "Enter a Number: 7\n",
      "Try Again\n",
      "Enter a Number: 8\n",
      "Try Again\n",
      "Enter a Number: 9\n",
      "Try Again\n",
      "Enter a Number: 10\n",
      "Try Again\n",
      "Enter a Number: 11\n",
      "Try Again\n",
      "Enter a Number: 12\n",
      "Try Again\n",
      "Enter a Number: 13\n",
      "Try Again\n",
      "Enter a Number: 14\n",
      "Try Again\n",
      "Enter a Number: 15\n",
      "Try Again\n",
      "Enter a Number: 16\n",
      "Try Again\n",
      "Enter a Number: 44\n",
      "Try Again\n",
      "Enter a Number: 78\n",
      "Try Again\n",
      "Enter a Number: 26\n",
      "Guess is Correct\n",
      "Your Score is  -12\n"
     ]
    }
   ],
   "source": [
    "x=rd.randint(1,100)\n",
    "score=10\n",
    "while True:\n",
    "    y = int(input('Enter a Number: '))\n",
    "    if y==x:\n",
    "        print('Guess is Correct')\n",
    "        break\n",
    "    else:\n",
    "        score-=1\n",
    "        print('Try Again')\n",
    "print('Your Score is ',score)\n",
    "        "
   ]
  },
  {
   "cell_type": "code",
   "execution_count": 37,
   "id": "10bbba58",
   "metadata": {},
   "outputs": [
    {
     "name": "stdout",
     "output_type": "stream",
     "text": [
      "Enter a Number: 10\n",
      "The sum is  55\n"
     ]
    }
   ],
   "source": [
    "x=int(input('Enter a Number: '))\n",
    "sum=0\n",
    "for i in range(1,x+1):\n",
    "    sum+=i\n",
    "print('The sum is ',sum)"
   ]
  },
  {
   "cell_type": "code",
   "execution_count": 39,
   "id": "4448cef0",
   "metadata": {},
   "outputs": [
    {
     "name": "stdout",
     "output_type": "stream",
     "text": [
      "Enter a Number: 100\n",
      "The sum is 5050.0\n"
     ]
    }
   ],
   "source": [
    "n=int(input('Enter a Number: '))\n",
    "sum=(n*(n+1))/2\n",
    "print('The sum is',sum)"
   ]
  },
  {
   "cell_type": "code",
   "execution_count": null,
   "id": "267c2e68",
   "metadata": {},
   "outputs": [],
   "source": []
  }
 ],
 "metadata": {
  "kernelspec": {
   "display_name": "Python 3 (ipykernel)",
   "language": "python",
   "name": "python3"
  },
  "language_info": {
   "codemirror_mode": {
    "name": "ipython",
    "version": 3
   },
   "file_extension": ".py",
   "mimetype": "text/x-python",
   "name": "python",
   "nbconvert_exporter": "python",
   "pygments_lexer": "ipython3",
   "version": "3.11.1"
  }
 },
 "nbformat": 4,
 "nbformat_minor": 5
}
