{
 "cells": [
  {
   "cell_type": "markdown",
   "id": "5aa262d4",
   "metadata": {},
   "source": [
    "# CLASSES AND OBJECTS"
   ]
  },
  {
   "cell_type": "code",
   "execution_count": 1,
   "id": "d7f36f1b",
   "metadata": {},
   "outputs": [],
   "source": [
    "#Define class\n",
    "class person:\n",
    "    name = ''\n",
    "    age = 0"
   ]
  },
  {
   "cell_type": "code",
   "execution_count": 2,
   "id": "3004f5b8",
   "metadata": {},
   "outputs": [],
   "source": [
    "p1=person()"
   ]
  },
  {
   "cell_type": "code",
   "execution_count": 5,
   "id": "129e3581",
   "metadata": {},
   "outputs": [
    {
     "data": {
      "text/plain": [
       "0"
      ]
     },
     "execution_count": 5,
     "metadata": {},
     "output_type": "execute_result"
    }
   ],
   "source": [
    "p1.age"
   ]
  },
  {
   "cell_type": "code",
   "execution_count": 6,
   "id": "71bb4235",
   "metadata": {},
   "outputs": [],
   "source": [
    "p1.age=20"
   ]
  },
  {
   "cell_type": "code",
   "execution_count": 7,
   "id": "b88800cc",
   "metadata": {},
   "outputs": [],
   "source": [
    "p1.name='Ram dahal'"
   ]
  },
  {
   "cell_type": "code",
   "execution_count": 8,
   "id": "73a2d03c",
   "metadata": {},
   "outputs": [],
   "source": [
    "p2=person()"
   ]
  },
  {
   "cell_type": "code",
   "execution_count": 9,
   "id": "46e46cd7",
   "metadata": {},
   "outputs": [
    {
     "data": {
      "text/plain": [
       "20"
      ]
     },
     "execution_count": 9,
     "metadata": {},
     "output_type": "execute_result"
    }
   ],
   "source": [
    "p1.age"
   ]
  },
  {
   "cell_type": "code",
   "execution_count": 10,
   "id": "dacabd93",
   "metadata": {},
   "outputs": [
    {
     "data": {
      "text/plain": [
       "0"
      ]
     },
     "execution_count": 10,
     "metadata": {},
     "output_type": "execute_result"
    }
   ],
   "source": [
    "p2.age"
   ]
  },
  {
   "cell_type": "markdown",
   "id": "406622a9",
   "metadata": {},
   "source": [
    "_init_ function"
   ]
  },
  {
   "cell_type": "code",
   "execution_count": 12,
   "id": "4cf9b52d",
   "metadata": {},
   "outputs": [],
   "source": [
    "class person:\n",
    "    def __init__(self,name='',age=0):\n",
    "        self.name=name\n",
    "        self.age=age\n",
    "        "
   ]
  },
  {
   "cell_type": "code",
   "execution_count": 14,
   "id": "7345f65d",
   "metadata": {},
   "outputs": [],
   "source": [
    "p1=person()"
   ]
  },
  {
   "cell_type": "code",
   "execution_count": 15,
   "id": "d573b630",
   "metadata": {},
   "outputs": [
    {
     "data": {
      "text/plain": [
       "0"
      ]
     },
     "execution_count": 15,
     "metadata": {},
     "output_type": "execute_result"
    }
   ],
   "source": [
    "p1.age"
   ]
  },
  {
   "cell_type": "code",
   "execution_count": 17,
   "id": "f7e82c56",
   "metadata": {},
   "outputs": [],
   "source": [
    "p3=person('Hexcode',1)"
   ]
  },
  {
   "cell_type": "code",
   "execution_count": 18,
   "id": "2348ae37",
   "metadata": {},
   "outputs": [
    {
     "data": {
      "text/plain": [
       "'Hexcode'"
      ]
     },
     "execution_count": 18,
     "metadata": {},
     "output_type": "execute_result"
    }
   ],
   "source": [
    "p3.name"
   ]
  },
  {
   "cell_type": "code",
   "execution_count": 19,
   "id": "49d0aa9d",
   "metadata": {},
   "outputs": [],
   "source": [
    "class person:\n",
    "    def __init__(self,fname,lname,dob):\n",
    "        self.fname=fname\n",
    "        self.lname=lname\n",
    "        self.dob=dob\n",
    "    def fullname(self):\n",
    "        return self.fname+' '+self.lname\n",
    "    def age(self):\n",
    "        return (2023-self.dob)\n",
    "        "
   ]
  },
  {
   "cell_type": "code",
   "execution_count": 20,
   "id": "e0e4031d",
   "metadata": {},
   "outputs": [],
   "source": [
    "x = person('Shiv Shankar','Sah',1995)"
   ]
  },
  {
   "cell_type": "code",
   "execution_count": 21,
   "id": "16dcd586",
   "metadata": {},
   "outputs": [
    {
     "data": {
      "text/plain": [
       "'Shiv Shankar Sah'"
      ]
     },
     "execution_count": 21,
     "metadata": {},
     "output_type": "execute_result"
    }
   ],
   "source": [
    "x.fullname()"
   ]
  },
  {
   "cell_type": "code",
   "execution_count": 22,
   "id": "9c9ceb65",
   "metadata": {},
   "outputs": [
    {
     "data": {
      "text/plain": [
       "28"
      ]
     },
     "execution_count": 22,
     "metadata": {},
     "output_type": "execute_result"
    }
   ],
   "source": [
    "x.age()"
   ]
  },
  {
   "cell_type": "code",
   "execution_count": 30,
   "id": "105f93fa",
   "metadata": {},
   "outputs": [],
   "source": [
    "class student(person):\n",
    "#     pass\n",
    "    def info(self):\n",
    "        print(f\"My name is {self.fname} and i am student.\")"
   ]
  },
  {
   "cell_type": "code",
   "execution_count": 31,
   "id": "4bef22a9",
   "metadata": {},
   "outputs": [],
   "source": [
    "y = student('Hexcode','Nepal',2022)"
   ]
  },
  {
   "cell_type": "code",
   "execution_count": 32,
   "id": "1d689541",
   "metadata": {},
   "outputs": [
    {
     "data": {
      "text/plain": [
       "1"
      ]
     },
     "execution_count": 32,
     "metadata": {},
     "output_type": "execute_result"
    }
   ],
   "source": [
    "y.age()"
   ]
  },
  {
   "cell_type": "code",
   "execution_count": 33,
   "id": "b42a3404",
   "metadata": {},
   "outputs": [],
   "source": [
    "s1 = student('Hemanta','Chand',2003)"
   ]
  },
  {
   "cell_type": "code",
   "execution_count": 34,
   "id": "ff52ed49",
   "metadata": {},
   "outputs": [
    {
     "name": "stdout",
     "output_type": "stream",
     "text": [
      "My name is Hemanta and i am student.\n"
     ]
    }
   ],
   "source": [
    "s1.info()"
   ]
  },
  {
   "cell_type": "code",
   "execution_count": 35,
   "id": "ec82dc01",
   "metadata": {},
   "outputs": [],
   "source": [
    "x='hi'\n",
    "y = 'good'"
   ]
  },
  {
   "cell_type": "code",
   "execution_count": 36,
   "id": "8716a3b9",
   "metadata": {},
   "outputs": [
    {
     "name": "stdout",
     "output_type": "stream",
     "text": [
      "hemanta always does hi hi in class but performs good in exam\n"
     ]
    }
   ],
   "source": [
    "print(f\"hemanta always does {x} {x} in class but performs {y} in exam\")"
   ]
  },
  {
   "cell_type": "code",
   "execution_count": 50,
   "id": "2badb57c",
   "metadata": {},
   "outputs": [],
   "source": [
    "class person:\n",
    "    def __init__(self,name,dob,address,contact):\n",
    "        self.name=name\n",
    "        self.address=address\n",
    "        self.dob=dob\n",
    "        self.contact=contact\n",
    "    def info(self):\n",
    "        print(f\"My name is {self.name} and i am {self.age()} years old. My cell number is {self.contact}\")\n",
    "    def age(self):\n",
    "        return (2023-self.dob)\n",
    "    def display(self):\n",
    "        print('I am a person')"
   ]
  },
  {
   "cell_type": "code",
   "execution_count": 54,
   "id": "f4023e9d",
   "metadata": {},
   "outputs": [],
   "source": [
    "class student(person):\n",
    "    def display(self):\n",
    "        super().display()\n",
    "        print('I am a student')"
   ]
  },
  {
   "cell_type": "code",
   "execution_count": 55,
   "id": "a552ffdb",
   "metadata": {},
   "outputs": [],
   "source": [
    "s1=student('Rahul Kumar Gupta',2023,'Sky',9898989898)"
   ]
  },
  {
   "cell_type": "code",
   "execution_count": 56,
   "id": "580c8a43",
   "metadata": {},
   "outputs": [
    {
     "name": "stdout",
     "output_type": "stream",
     "text": [
      "I am a person\n",
      "I am a student\n"
     ]
    }
   ],
   "source": [
    "s1.display()"
   ]
  },
  {
   "cell_type": "code",
   "execution_count": null,
   "id": "c913330b",
   "metadata": {},
   "outputs": [],
   "source": []
  }
 ],
 "metadata": {
  "kernelspec": {
   "display_name": "Python 3 (ipykernel)",
   "language": "python",
   "name": "python3"
  },
  "language_info": {
   "codemirror_mode": {
    "name": "ipython",
    "version": 3
   },
   "file_extension": ".py",
   "mimetype": "text/x-python",
   "name": "python",
   "nbconvert_exporter": "python",
   "pygments_lexer": "ipython3",
   "version": "3.10.9"
  }
 },
 "nbformat": 4,
 "nbformat_minor": 5
}
