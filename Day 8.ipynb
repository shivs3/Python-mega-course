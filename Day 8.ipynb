{
 "cells": [
  {
   "cell_type": "markdown",
   "id": "b3dc022c",
   "metadata": {},
   "source": [
    "# LAMBDA FUNCTION"
   ]
  },
  {
   "cell_type": "code",
   "execution_count": 1,
   "id": "fbe36605",
   "metadata": {},
   "outputs": [],
   "source": [
    "add = lambda x,y:x+y"
   ]
  },
  {
   "cell_type": "code",
   "execution_count": 2,
   "id": "c8de85cc",
   "metadata": {},
   "outputs": [
    {
     "data": {
      "text/plain": [
       "8"
      ]
     },
     "execution_count": 2,
     "metadata": {},
     "output_type": "execute_result"
    }
   ],
   "source": [
    "add(3,5)"
   ]
  },
  {
   "cell_type": "markdown",
   "id": "638e350d",
   "metadata": {},
   "source": [
    "Syntax:\n",
    "funcuion_name = lambda arguments:expressions"
   ]
  },
  {
   "cell_type": "code",
   "execution_count": 3,
   "id": "482724f1",
   "metadata": {},
   "outputs": [],
   "source": [
    "f_name = lambda first,middle,last:first+' '+middle+' '+last"
   ]
  },
  {
   "cell_type": "code",
   "execution_count": 4,
   "id": "3d00bb69",
   "metadata": {},
   "outputs": [
    {
     "data": {
      "text/plain": [
       "'Shiv Shankar Sah'"
      ]
     },
     "execution_count": 4,
     "metadata": {},
     "output_type": "execute_result"
    }
   ],
   "source": [
    "f_name('Shiv','Shankar','Sah')"
   ]
  },
  {
   "cell_type": "code",
   "execution_count": 5,
   "id": "5d08a4e3",
   "metadata": {},
   "outputs": [],
   "source": [
    "sum_n = lambda n:(n*(n+1))/2"
   ]
  },
  {
   "cell_type": "code",
   "execution_count": 7,
   "id": "7b7510d7",
   "metadata": {},
   "outputs": [
    {
     "data": {
      "text/plain": [
       "55.0"
      ]
     },
     "execution_count": 7,
     "metadata": {},
     "output_type": "execute_result"
    }
   ],
   "source": [
    "sum_n(10)"
   ]
  },
  {
   "cell_type": "code",
   "execution_count": 8,
   "id": "e99afef8",
   "metadata": {},
   "outputs": [
    {
     "name": "stdout",
     "output_type": "stream",
     "text": [
      "Enter Number100\n"
     ]
    },
    {
     "data": {
      "text/plain": [
       "5050.0"
      ]
     },
     "execution_count": 8,
     "metadata": {},
     "output_type": "execute_result"
    }
   ],
   "source": [
    "n=int(input('Enter Number'))\n",
    "sum_n(n)"
   ]
  },
  {
   "cell_type": "code",
   "execution_count": null,
   "id": "2c8d2eac",
   "metadata": {},
   "outputs": [],
   "source": []
  }
 ],
 "metadata": {
  "kernelspec": {
   "display_name": "Python 3 (ipykernel)",
   "language": "python",
   "name": "python3"
  },
  "language_info": {
   "codemirror_mode": {
    "name": "ipython",
    "version": 3
   },
   "file_extension": ".py",
   "mimetype": "text/x-python",
   "name": "python",
   "nbconvert_exporter": "python",
   "pygments_lexer": "ipython3",
   "version": "3.11.1"
  }
 },
 "nbformat": 4,
 "nbformat_minor": 5
}
