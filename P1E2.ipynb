{
 "cells": [
  {
   "cell_type": "markdown",
   "id": "dfdcc25a",
   "metadata": {},
   "source": [
    "# Write a program to display all prime numbers within a range"
   ]
  },
  {
   "cell_type": "code",
   "execution_count": 1,
   "id": "2b2ca52a",
   "metadata": {},
   "outputs": [
    {
     "name": "stdout",
     "output_type": "stream",
     "text": [
      "Enter Lower value: 25\n",
      "Enter upper value: 125\n"
     ]
    }
   ],
   "source": [
    "l_value = int(input('Enter Lower value: '))\n",
    "u_value = int(input('Enter upper value: '))"
   ]
  },
  {
   "cell_type": "code",
   "execution_count": 7,
   "id": "8b5782bc",
   "metadata": {},
   "outputs": [
    {
     "name": "stdout",
     "output_type": "stream",
     "text": [
      "29 31 37 41 43 47 53 59 61 67 71 73 79 83 89 97 101 103 107 109 113 "
     ]
    }
   ],
   "source": [
    "for i in range(l_value,u_value+1):\n",
    "    for j in range(2,i):\n",
    "        if i%j==0:\n",
    "            break\n",
    "    else:\n",
    "        print(i,end=' ')\n",
    "            "
   ]
  },
  {
   "cell_type": "markdown",
   "id": "6ab4f9c0",
   "metadata": {},
   "source": [
    "# Display Fibonacci series up to n terms"
   ]
  },
  {
   "cell_type": "code",
   "execution_count": 24,
   "id": "85e6d2cf",
   "metadata": {},
   "outputs": [
    {
     "name": "stdout",
     "output_type": "stream",
     "text": [
      "Enter the number of terms: 20\n"
     ]
    }
   ],
   "source": [
    "n=int(input('Enter the number of terms: '))"
   ]
  },
  {
   "cell_type": "code",
   "execution_count": 25,
   "id": "aa4ff931",
   "metadata": {},
   "outputs": [
    {
     "name": "stdout",
     "output_type": "stream",
     "text": [
      "0 1 1 2 3 5 8 13 21 34 55 89 144 233 377 610 987 1597 2584 4181 "
     ]
    }
   ],
   "source": [
    "x,y = 0,1\n",
    "print(x,y,end=' ')\n",
    "for i in range(1,n-1):\n",
    "    nxt = x + y\n",
    "    print(nxt,end=' ')\n",
    "    x=y\n",
    "    y=nxt"
   ]
  },
  {
   "cell_type": "markdown",
   "id": "80308b05",
   "metadata": {},
   "source": [
    "# Reverse a given integer number"
   ]
  },
  {
   "cell_type": "code",
   "execution_count": 28,
   "id": "54740ee0",
   "metadata": {},
   "outputs": [
    {
     "name": "stdout",
     "output_type": "stream",
     "text": [
      "Enter any number:12345\n",
      "Reverse Number =  54321\n"
     ]
    }
   ],
   "source": [
    "num = int(input('Enter any number:'))\n",
    "rev_num = 0\n",
    "while num>0:\n",
    "    rem = num%10\n",
    "    rev_num = rev_num*10+rem\n",
    "    num=num//10\n",
    "print('Reverse Number = ',rev_num)"
   ]
  },
  {
   "cell_type": "code",
   "execution_count": null,
   "id": "b47c7c76",
   "metadata": {},
   "outputs": [],
   "source": []
  }
 ],
 "metadata": {
  "kernelspec": {
   "display_name": "Python 3 (ipykernel)",
   "language": "python",
   "name": "python3"
  },
  "language_info": {
   "codemirror_mode": {
    "name": "ipython",
    "version": 3
   },
   "file_extension": ".py",
   "mimetype": "text/x-python",
   "name": "python",
   "nbconvert_exporter": "python",
   "pygments_lexer": "ipython3",
   "version": "3.11.1"
  }
 },
 "nbformat": 4,
 "nbformat_minor": 5
}
