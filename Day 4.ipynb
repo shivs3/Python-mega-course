{
 "cells": [
  {
   "cell_type": "markdown",
   "id": "2d7dc0f6",
   "metadata": {},
   "source": [
    "# List"
   ]
  },
  {
   "cell_type": "code",
   "execution_count": 1,
   "id": "a01a007e",
   "metadata": {},
   "outputs": [],
   "source": [
    "lst = [1,2,3, 'Hi',2.633333,'Shiv','Hexcode']"
   ]
  },
  {
   "cell_type": "code",
   "execution_count": 2,
   "id": "53c6c660",
   "metadata": {},
   "outputs": [
    {
     "data": {
      "text/plain": [
       "list"
      ]
     },
     "execution_count": 2,
     "metadata": {},
     "output_type": "execute_result"
    }
   ],
   "source": [
    "type(lst)"
   ]
  },
  {
   "cell_type": "code",
   "execution_count": 3,
   "id": "0ace146f",
   "metadata": {},
   "outputs": [
    {
     "data": {
      "text/plain": [
       "3"
      ]
     },
     "execution_count": 3,
     "metadata": {},
     "output_type": "execute_result"
    }
   ],
   "source": [
    "lst[2]"
   ]
  },
  {
   "cell_type": "code",
   "execution_count": 4,
   "id": "e8938ade",
   "metadata": {},
   "outputs": [
    {
     "data": {
      "text/plain": [
       "int"
      ]
     },
     "execution_count": 4,
     "metadata": {},
     "output_type": "execute_result"
    }
   ],
   "source": [
    "type(lst[2])"
   ]
  },
  {
   "cell_type": "code",
   "execution_count": 5,
   "id": "e391bdce",
   "metadata": {},
   "outputs": [],
   "source": [
    "x='Shiv Hexcode'"
   ]
  },
  {
   "cell_type": "code",
   "execution_count": 8,
   "id": "0d002f04",
   "metadata": {},
   "outputs": [
    {
     "data": {
      "text/plain": [
       "'Shiv Hexcode'"
      ]
     },
     "execution_count": 8,
     "metadata": {},
     "output_type": "execute_result"
    }
   ],
   "source": [
    "lst[5]+' '+lst[6]"
   ]
  },
  {
   "cell_type": "code",
   "execution_count": 9,
   "id": "1e9b4a62",
   "metadata": {},
   "outputs": [
    {
     "data": {
      "text/plain": [
       "7"
      ]
     },
     "execution_count": 9,
     "metadata": {},
     "output_type": "execute_result"
    }
   ],
   "source": [
    "len(lst)"
   ]
  },
  {
   "cell_type": "code",
   "execution_count": 10,
   "id": "e61d9d16",
   "metadata": {},
   "outputs": [
    {
     "data": {
      "text/plain": [
       "[3, 'Hi', 2.633333, 'Shiv']"
      ]
     },
     "execution_count": 10,
     "metadata": {},
     "output_type": "execute_result"
    }
   ],
   "source": [
    "lst[2:6]"
   ]
  },
  {
   "cell_type": "code",
   "execution_count": 11,
   "id": "e8b4cae9",
   "metadata": {},
   "outputs": [],
   "source": [
    "lst1=[]"
   ]
  },
  {
   "cell_type": "code",
   "execution_count": 12,
   "id": "d11d1ab9",
   "metadata": {},
   "outputs": [],
   "source": [
    "lst1.append('Hex')"
   ]
  },
  {
   "cell_type": "code",
   "execution_count": 13,
   "id": "e8b19ced",
   "metadata": {},
   "outputs": [
    {
     "data": {
      "text/plain": [
       "['Hex']"
      ]
     },
     "execution_count": 13,
     "metadata": {},
     "output_type": "execute_result"
    }
   ],
   "source": [
    "lst1"
   ]
  },
  {
   "cell_type": "code",
   "execution_count": 14,
   "id": "8ce131d6",
   "metadata": {},
   "outputs": [],
   "source": [
    "lst1.append('Nepal')"
   ]
  },
  {
   "cell_type": "code",
   "execution_count": 15,
   "id": "0960a172",
   "metadata": {},
   "outputs": [],
   "source": [
    "lst1.append('2077')"
   ]
  },
  {
   "cell_type": "code",
   "execution_count": 16,
   "id": "9c2052ca",
   "metadata": {},
   "outputs": [],
   "source": [
    "lst1.append('Python')"
   ]
  },
  {
   "cell_type": "code",
   "execution_count": 17,
   "id": "ef2f1b3f",
   "metadata": {},
   "outputs": [
    {
     "data": {
      "text/plain": [
       "['Hex', 'Nepal', '2077', 'Python']"
      ]
     },
     "execution_count": 17,
     "metadata": {},
     "output_type": "execute_result"
    }
   ],
   "source": [
    "lst1"
   ]
  },
  {
   "cell_type": "code",
   "execution_count": 18,
   "id": "bb536a2a",
   "metadata": {},
   "outputs": [],
   "source": [
    "lst1.insert(1,'Code')"
   ]
  },
  {
   "cell_type": "code",
   "execution_count": 19,
   "id": "cbc071f0",
   "metadata": {},
   "outputs": [
    {
     "data": {
      "text/plain": [
       "['Hex', 'Code', 'Nepal', '2077', 'Python']"
      ]
     },
     "execution_count": 19,
     "metadata": {},
     "output_type": "execute_result"
    }
   ],
   "source": [
    "lst1"
   ]
  },
  {
   "cell_type": "code",
   "execution_count": 21,
   "id": "d5302de8",
   "metadata": {},
   "outputs": [],
   "source": [
    "lst1[1]='Academy'"
   ]
  },
  {
   "cell_type": "code",
   "execution_count": 22,
   "id": "f5cd1136",
   "metadata": {},
   "outputs": [
    {
     "data": {
      "text/plain": [
       "['Hex', 'Academy', 'Nepal', '2077', 'Python']"
      ]
     },
     "execution_count": 22,
     "metadata": {},
     "output_type": "execute_result"
    }
   ],
   "source": [
    "lst1"
   ]
  },
  {
   "cell_type": "code",
   "execution_count": 24,
   "id": "3ee26e29",
   "metadata": {},
   "outputs": [],
   "source": [
    "lst1[1:4]=['Code','USA','2023']"
   ]
  },
  {
   "cell_type": "code",
   "execution_count": 25,
   "id": "7419a02a",
   "metadata": {},
   "outputs": [
    {
     "data": {
      "text/plain": [
       "['Hex', 'Code', 'USA', '2023', 'Python']"
      ]
     },
     "execution_count": 25,
     "metadata": {},
     "output_type": "execute_result"
    }
   ],
   "source": [
    "lst1"
   ]
  },
  {
   "cell_type": "code",
   "execution_count": 26,
   "id": "75b616ce",
   "metadata": {},
   "outputs": [],
   "source": [
    "lst1.remove('USA')"
   ]
  },
  {
   "cell_type": "code",
   "execution_count": 27,
   "id": "3b00017b",
   "metadata": {},
   "outputs": [
    {
     "data": {
      "text/plain": [
       "['Hex', 'Code', '2023', 'Python']"
      ]
     },
     "execution_count": 27,
     "metadata": {},
     "output_type": "execute_result"
    }
   ],
   "source": [
    "lst1"
   ]
  },
  {
   "cell_type": "code",
   "execution_count": 28,
   "id": "fbde549b",
   "metadata": {},
   "outputs": [],
   "source": [
    "lst1.clear()"
   ]
  },
  {
   "cell_type": "code",
   "execution_count": 29,
   "id": "36ac22ab",
   "metadata": {},
   "outputs": [
    {
     "data": {
      "text/plain": [
       "[]"
      ]
     },
     "execution_count": 29,
     "metadata": {},
     "output_type": "execute_result"
    }
   ],
   "source": [
    "lst1"
   ]
  },
  {
   "cell_type": "code",
   "execution_count": 30,
   "id": "23b08608",
   "metadata": {},
   "outputs": [
    {
     "data": {
      "text/plain": [
       "[1, 'Academy', 3, 'Hi', 2.633333, 'Shiv', 'Hexcode']"
      ]
     },
     "execution_count": 30,
     "metadata": {},
     "output_type": "execute_result"
    }
   ],
   "source": [
    "lst"
   ]
  },
  {
   "cell_type": "code",
   "execution_count": 31,
   "id": "dc395afa",
   "metadata": {},
   "outputs": [
    {
     "data": {
      "text/plain": [
       "'Hexcode'"
      ]
     },
     "execution_count": 31,
     "metadata": {},
     "output_type": "execute_result"
    }
   ],
   "source": [
    "lst.pop()"
   ]
  },
  {
   "cell_type": "code",
   "execution_count": 32,
   "id": "3759860b",
   "metadata": {},
   "outputs": [
    {
     "data": {
      "text/plain": [
       "'Shiv'"
      ]
     },
     "execution_count": 32,
     "metadata": {},
     "output_type": "execute_result"
    }
   ],
   "source": [
    "lst.pop()"
   ]
  },
  {
   "cell_type": "code",
   "execution_count": 33,
   "id": "c4c8faf4",
   "metadata": {},
   "outputs": [
    {
     "data": {
      "text/plain": [
       "[1, 'Academy', 3, 'Hi', 2.633333]"
      ]
     },
     "execution_count": 33,
     "metadata": {},
     "output_type": "execute_result"
    }
   ],
   "source": [
    "lst"
   ]
  },
  {
   "cell_type": "code",
   "execution_count": 34,
   "id": "d882014f",
   "metadata": {},
   "outputs": [
    {
     "data": {
      "text/plain": [
       "True"
      ]
     },
     "execution_count": 34,
     "metadata": {},
     "output_type": "execute_result"
    }
   ],
   "source": [
    "1 in lst"
   ]
  },
  {
   "cell_type": "code",
   "execution_count": 35,
   "id": "c958f8d3",
   "metadata": {},
   "outputs": [
    {
     "data": {
      "text/plain": [
       "False"
      ]
     },
     "execution_count": 35,
     "metadata": {},
     "output_type": "execute_result"
    }
   ],
   "source": [
    "2 in lst"
   ]
  },
  {
   "cell_type": "code",
   "execution_count": 36,
   "id": "90e04167",
   "metadata": {},
   "outputs": [
    {
     "data": {
      "text/plain": [
       "True"
      ]
     },
     "execution_count": 36,
     "metadata": {},
     "output_type": "execute_result"
    }
   ],
   "source": [
    "2 not in lst"
   ]
  },
  {
   "cell_type": "code",
   "execution_count": 37,
   "id": "d2302e46",
   "metadata": {},
   "outputs": [
    {
     "data": {
      "text/plain": [
       "True"
      ]
     },
     "execution_count": 37,
     "metadata": {},
     "output_type": "execute_result"
    }
   ],
   "source": [
    "'Hi' in lst"
   ]
  },
  {
   "cell_type": "markdown",
   "id": "ed5bb557",
   "metadata": {},
   "source": [
    "# Dictionary"
   ]
  },
  {
   "cell_type": "code",
   "execution_count": 38,
   "id": "7ffde88b",
   "metadata": {},
   "outputs": [],
   "source": [
    "info={'Name':'Shiv Shankar Sah',\n",
    "      'Roll': 15,\n",
    "     'College':'Pulchowk',\n",
    "     'Semester':3,\n",
    "     'Programme':'MSCSKE'}"
   ]
  },
  {
   "cell_type": "code",
   "execution_count": 39,
   "id": "af72adbb",
   "metadata": {},
   "outputs": [
    {
     "data": {
      "text/plain": [
       "{'Name': 'Shiv Shankar Sah',\n",
       " 'Roll': 15,\n",
       " 'College': 'Pulchowk',\n",
       " 'Semester': 3,\n",
       " 'Programme': 'MSCSKE'}"
      ]
     },
     "execution_count": 39,
     "metadata": {},
     "output_type": "execute_result"
    }
   ],
   "source": [
    "info"
   ]
  },
  {
   "cell_type": "code",
   "execution_count": 40,
   "id": "b07ee986",
   "metadata": {},
   "outputs": [
    {
     "data": {
      "text/plain": [
       "dict_keys(['Name', 'Roll', 'College', 'Semester', 'Programme'])"
      ]
     },
     "execution_count": 40,
     "metadata": {},
     "output_type": "execute_result"
    }
   ],
   "source": [
    "info.keys()"
   ]
  },
  {
   "cell_type": "code",
   "execution_count": 41,
   "id": "80c1cdc1",
   "metadata": {},
   "outputs": [
    {
     "data": {
      "text/plain": [
       "'Pulchowk'"
      ]
     },
     "execution_count": 41,
     "metadata": {},
     "output_type": "execute_result"
    }
   ],
   "source": [
    "info['College']"
   ]
  },
  {
   "cell_type": "code",
   "execution_count": 42,
   "id": "d2fb1764",
   "metadata": {},
   "outputs": [],
   "source": [
    "info['College']='Medhavi'"
   ]
  },
  {
   "cell_type": "code",
   "execution_count": 43,
   "id": "efe57567",
   "metadata": {},
   "outputs": [
    {
     "data": {
      "text/plain": [
       "{'Name': 'Shiv Shankar Sah',\n",
       " 'Roll': 15,\n",
       " 'College': 'Medhavi',\n",
       " 'Semester': 3,\n",
       " 'Programme': 'MSCSKE'}"
      ]
     },
     "execution_count": 43,
     "metadata": {},
     "output_type": "execute_result"
    }
   ],
   "source": [
    "info"
   ]
  },
  {
   "cell_type": "code",
   "execution_count": 44,
   "id": "984ea2b0",
   "metadata": {},
   "outputs": [
    {
     "data": {
      "text/plain": [
       "dict_values(['Shiv Shankar Sah', 15, 'Medhavi', 3, 'MSCSKE'])"
      ]
     },
     "execution_count": 44,
     "metadata": {},
     "output_type": "execute_result"
    }
   ],
   "source": [
    "info.values()"
   ]
  },
  {
   "cell_type": "code",
   "execution_count": 45,
   "id": "d955f35d",
   "metadata": {},
   "outputs": [],
   "source": [
    "info['Remarks']='Topper'"
   ]
  },
  {
   "cell_type": "code",
   "execution_count": 46,
   "id": "a1a39f4b",
   "metadata": {},
   "outputs": [
    {
     "data": {
      "text/plain": [
       "{'Name': 'Shiv Shankar Sah',\n",
       " 'Roll': 15,\n",
       " 'College': 'Medhavi',\n",
       " 'Semester': 3,\n",
       " 'Programme': 'MSCSKE',\n",
       " 'Remarks': 'Topper'}"
      ]
     },
     "execution_count": 46,
     "metadata": {},
     "output_type": "execute_result"
    }
   ],
   "source": [
    "info"
   ]
  },
  {
   "cell_type": "code",
   "execution_count": 47,
   "id": "b057eca7",
   "metadata": {},
   "outputs": [
    {
     "data": {
      "text/plain": [
       "'Topper'"
      ]
     },
     "execution_count": 47,
     "metadata": {},
     "output_type": "execute_result"
    }
   ],
   "source": [
    "info.pop('Remarks')"
   ]
  },
  {
   "cell_type": "code",
   "execution_count": 48,
   "id": "df95d728",
   "metadata": {},
   "outputs": [
    {
     "data": {
      "text/plain": [
       "{'Name': 'Shiv Shankar Sah',\n",
       " 'Roll': 15,\n",
       " 'College': 'Medhavi',\n",
       " 'Semester': 3,\n",
       " 'Programme': 'MSCSKE'}"
      ]
     },
     "execution_count": 48,
     "metadata": {},
     "output_type": "execute_result"
    }
   ],
   "source": [
    "info"
   ]
  },
  {
   "cell_type": "code",
   "execution_count": 54,
   "id": "f851c823",
   "metadata": {},
   "outputs": [],
   "source": [
    "info.update({'Reg. No':'2014-248250'})"
   ]
  },
  {
   "cell_type": "code",
   "execution_count": 55,
   "id": "fe04dfdd",
   "metadata": {},
   "outputs": [
    {
     "data": {
      "text/plain": [
       "{'Name': 'Shiv Shankar Sah',\n",
       " 'Roll': 15,\n",
       " 'College': 'Medhavi',\n",
       " 'Semester': 3,\n",
       " 'Programme': 'MSCSKE',\n",
       " 'Reg. No': '2014-248250'}"
      ]
     },
     "execution_count": 55,
     "metadata": {},
     "output_type": "execute_result"
    }
   ],
   "source": [
    "info"
   ]
  },
  {
   "cell_type": "code",
   "execution_count": 56,
   "id": "2fb9e1ad",
   "metadata": {},
   "outputs": [
    {
     "data": {
      "text/plain": [
       "'2014-248250'"
      ]
     },
     "execution_count": 56,
     "metadata": {},
     "output_type": "execute_result"
    }
   ],
   "source": [
    "info.get('Reg. No')"
   ]
  },
  {
   "cell_type": "markdown",
   "id": "c043807c",
   "metadata": {},
   "source": [
    "# Tuples"
   ]
  },
  {
   "cell_type": "code",
   "execution_count": 60,
   "id": "d5d050e3",
   "metadata": {},
   "outputs": [],
   "source": [
    "x=(1,1,1,2,3,'hi')"
   ]
  },
  {
   "cell_type": "code",
   "execution_count": 61,
   "id": "0142e1e3",
   "metadata": {},
   "outputs": [
    {
     "data": {
      "text/plain": [
       "3"
      ]
     },
     "execution_count": 61,
     "metadata": {},
     "output_type": "execute_result"
    }
   ],
   "source": [
    "x.count(1)"
   ]
  },
  {
   "cell_type": "code",
   "execution_count": 62,
   "id": "3a275f70",
   "metadata": {},
   "outputs": [
    {
     "data": {
      "text/plain": [
       "1"
      ]
     },
     "execution_count": 62,
     "metadata": {},
     "output_type": "execute_result"
    }
   ],
   "source": [
    "x[0]"
   ]
  },
  {
   "cell_type": "code",
   "execution_count": null,
   "id": "9171d75e",
   "metadata": {},
   "outputs": [],
   "source": []
  }
 ],
 "metadata": {
  "kernelspec": {
   "display_name": "Python 3 (ipykernel)",
   "language": "python",
   "name": "python3"
  },
  "language_info": {
   "codemirror_mode": {
    "name": "ipython",
    "version": 3
   },
   "file_extension": ".py",
   "mimetype": "text/x-python",
   "name": "python",
   "nbconvert_exporter": "python",
   "pygments_lexer": "ipython3",
   "version": "3.11.1"
  }
 },
 "nbformat": 4,
 "nbformat_minor": 5
}
